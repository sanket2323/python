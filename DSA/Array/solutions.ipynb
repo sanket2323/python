{
 "cells": [
  {
   "cell_type": "code",
   "execution_count": 9,
   "id": "bc816c7a",
   "metadata": {},
   "outputs": [
    {
     "name": "stdout",
     "output_type": "stream",
     "text": [
      "[22, 233, 24, 234, 263, 23, 56, 34, 67, 45, 7853, 675]\n",
      "max 7853\n",
      "min 22\n"
     ]
    }
   ],
   "source": [
    "#1\n",
    "arr = [22,233,24,234,263,23,56,34,67,45,7853,675]\n",
    "max_num = arr[0]\n",
    "min_num = arr[0]\n",
    "print(arr)\n",
    "for num in arr:\n",
    "    if(max_num < num):\n",
    "        max_num = num\n",
    "    if(min_num > num):\n",
    "        min_num = num\n",
    "\n",
    "print(f\"max {max_num}\")\n",
    "print(f\"min {min_num}\")\n"
   ]
  },
  {
   "cell_type": "code",
   "execution_count": null,
   "id": "cf991453",
   "metadata": {},
   "outputs": [
    {
     "name": "stdout",
     "output_type": "stream",
     "text": [
      "[22, 233, 24, 234, 263, 23, 56, 34, 67, 45, 7853, 675]\n",
      "11\n",
      "10\n",
      "9\n",
      "8\n",
      "7\n",
      "6\n",
      "5\n",
      "4\n",
      "3\n",
      "2\n",
      "1\n",
      "0\n",
      "[675, 7853, 45, 67, 34, 56, 23, 263, 234, 24, 233, 22]\n",
      "[675, 7853, 45, 67, 34, 56, 23, 263, 234, 24, 233, 22]\n"
     ]
    }
   ],
   "source": [
    "#2\n",
    "rev_arr = []\n",
    "print(arr)\n",
    "arr_len = len(arr)\n",
    "for num in range(arr_len-1,-1,-1):\n",
    "    print(num)\n",
    "    rev_arr.append(arr[num])\n",
    "\n",
    "print(rev_arr)\n"
   ]
  },
  {
   "cell_type": "code",
   "execution_count": null,
   "id": "d71c4ef7",
   "metadata": {},
   "outputs": [
    {
     "name": "stdout",
     "output_type": "stream",
     "text": [
      "[6, 3, 5, 4, 2]\n"
     ]
    }
   ],
   "source": [
    "#3 \n",
    "def isPalindrome(array):\n",
    "    return array == array[::-1]\n",
    "isPalindrome([2,4,5,3,6])\n",
    "\n",
    "is_array = [2,4,5,3,6]\n",
    "is_array_is = is_array[::-1]\n",
    "print(is_array_is)"
   ]
  },
  {
   "cell_type": "code",
   "execution_count": 7,
   "id": "cd96d830",
   "metadata": {},
   "outputs": [
    {
     "name": "stdout",
     "output_type": "stream",
     "text": [
      "[5, 1, 2, 3, 4, 2, 3, 4]\n"
     ]
    }
   ],
   "source": [
    "#4\n",
    "\n",
    "def shiftbyk (k,array):\n",
    "    k = k % len(array)\n",
    "    return array[-k:] + array[:-k]\n",
    "\n",
    "# Example\n",
    "print(shiftbyk(1, [1, 2, 3, 4,2,3,4, 5]))  #\n",
    "\n"
   ]
  },
  {
   "cell_type": "code",
   "execution_count": 15,
   "id": "1f22769c",
   "metadata": {},
   "outputs": [
    {
     "name": "stdout",
     "output_type": "stream",
     "text": [
      "0\n"
     ]
    },
    {
     "data": {
      "text/plain": [
       "-1"
      ]
     },
     "execution_count": 15,
     "metadata": {},
     "output_type": "execute_result"
    }
   ],
   "source": [
    "#5\n",
    "def findElement (k,arr):\n",
    "    len_of_array =  len(arr)\n",
    "    result = -1\n",
    "    for i in range(len_of_array):\n",
    "        if(arr[i] == k) : \n",
    "            result = i\n",
    "            break\n",
    "        else: result = -1\n",
    "    return result\n",
    "\n",
    "print(findElement(22,arr))\n",
    "findElement(233,arr)\n",
    "findElement(2334,arr)"
   ]
  },
  {
   "cell_type": "code",
   "execution_count": 17,
   "id": "b447dbde",
   "metadata": {},
   "outputs": [
    {
     "name": "stdout",
     "output_type": "stream",
     "text": [
      "Even count: 5\n",
      "odd count: 7\n"
     ]
    }
   ],
   "source": [
    "len_of_arr = len(arr)\n",
    "count_even = 0\n",
    "count_odd = 0\n",
    "for num in arr:\n",
    "    if(num%2 == 0) : count_even += 1\n",
    "    \n",
    "count_odd = len_of_arr - count_even\n",
    "print(f\"Even count: {count_even}\")\n",
    "print(f\"odd count: {count_odd}\")"
   ]
  }
 ],
 "metadata": {
  "kernelspec": {
   "display_name": "venv",
   "language": "python",
   "name": "python3"
  },
  "language_info": {
   "codemirror_mode": {
    "name": "ipython",
    "version": 3
   },
   "file_extension": ".py",
   "mimetype": "text/x-python",
   "name": "python",
   "nbconvert_exporter": "python",
   "pygments_lexer": "ipython3",
   "version": "3.9.6"
  }
 },
 "nbformat": 4,
 "nbformat_minor": 5
}
